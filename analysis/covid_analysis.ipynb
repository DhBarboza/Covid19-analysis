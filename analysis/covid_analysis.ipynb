{
  "nbformat": 4,
  "nbformat_minor": 0,
  "metadata": {
    "colab": {
      "name": "covid-analysis",
      "provenance": [],
      "collapsed_sections": []
    },
    "kernelspec": {
      "name": "python3",
      "display_name": "Python 3"
    }
  },
  "cells": [
    {
      "cell_type": "code",
      "metadata": {
        "id": "aKY0E4twje6N"
      },
      "source": [
        "#** Import Libraries:\n",
        "import pandas as pd\n",
        "import numpy as np\n",
        "import datetime"
      ],
      "execution_count": 4,
      "outputs": []
    },
    {
      "cell_type": "code",
      "metadata": {
        "colab": {
          "resources": {
            "http://localhost:8080/nbextensions/google.colab/files.js": {
              "data": "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",
              "ok": true,
              "headers": [
                [
                  "content-type",
                  "application/javascript"
                ]
              ],
              "status": 200,
              "status_text": ""
            }
          },
          "base_uri": "https://localhost:8080/",
          "height": 72
        },
        "id": "pXh_Pjv_IFk_",
        "outputId": "544b93c3-fd76-4c67-97cc-653a6a07ad63"
      },
      "source": [
        "#* Data source: https://github.com/whoismurilo/covid_19/blob/main/caso.csv.gz\n",
        "from google.colab import files\n",
        "files.upload()"
      ],
      "execution_count": 6,
      "outputs": [
        {
          "output_type": "display_data",
          "data": {
            "text/html": [
              "\n",
              "     <input type=\"file\" id=\"files-db809504-4403-4d3f-9262-7ef40c72585c\" name=\"files[]\" multiple disabled\n",
              "        style=\"border:none\" />\n",
              "     <output id=\"result-db809504-4403-4d3f-9262-7ef40c72585c\">\n",
              "      Upload widget is only available when the cell has been executed in the\n",
              "      current browser session. Please rerun this cell to enable.\n",
              "      </output>\n",
              "      <script src=\"/nbextensions/google.colab/files.js\"></script> "
            ],
            "text/plain": [
              "<IPython.core.display.HTML object>"
            ]
          },
          "metadata": {
            "tags": []
          }
        },
        {
          "output_type": "stream",
          "text": [
            "Saving caso.csv.gz to caso.csv (1).gz\n"
          ],
          "name": "stdout"
        }
      ]
    },
    {
      "cell_type": "code",
      "metadata": {
        "id": "avLvHpGWNQUS"
      },
      "source": [
        "#* Create variable containing data reading\n",
        "data = pd.read_csv(\"caso.csv (1).gz\")"
      ],
      "execution_count": 7,
      "outputs": []
    },
    {
      "cell_type": "code",
      "metadata": {
        "colab": {
          "base_uri": "https://localhost:8080/",
          "height": 609
        },
        "id": "ftRuAgwwN6_h",
        "outputId": "2fe3bb37-2c45-4e52-d072-ee928b741d4c"
      },
      "source": [
        "# View data:\n",
        "data"
      ],
      "execution_count": 8,
      "outputs": [
        {
          "output_type": "execute_result",
          "data": {
            "text/html": [
              "<div>\n",
              "<style scoped>\n",
              "    .dataframe tbody tr th:only-of-type {\n",
              "        vertical-align: middle;\n",
              "    }\n",
              "\n",
              "    .dataframe tbody tr th {\n",
              "        vertical-align: top;\n",
              "    }\n",
              "\n",
              "    .dataframe thead th {\n",
              "        text-align: right;\n",
              "    }\n",
              "</style>\n",
              "<table border=\"1\" class=\"dataframe\">\n",
              "  <thead>\n",
              "    <tr style=\"text-align: right;\">\n",
              "      <th></th>\n",
              "      <th>date</th>\n",
              "      <th>state</th>\n",
              "      <th>city</th>\n",
              "      <th>place_type</th>\n",
              "      <th>confirmed</th>\n",
              "      <th>deaths</th>\n",
              "      <th>order_for_place</th>\n",
              "      <th>is_last</th>\n",
              "      <th>estimated_population_2019</th>\n",
              "      <th>estimated_population</th>\n",
              "      <th>city_ibge_code</th>\n",
              "      <th>confirmed_per_100k_inhabitants</th>\n",
              "      <th>death_rate</th>\n",
              "    </tr>\n",
              "  </thead>\n",
              "  <tbody>\n",
              "    <tr>\n",
              "      <th>0</th>\n",
              "      <td>2020-11-21</td>\n",
              "      <td>AC</td>\n",
              "      <td>NaN</td>\n",
              "      <td>state</td>\n",
              "      <td>34435</td>\n",
              "      <td>713</td>\n",
              "      <td>250</td>\n",
              "      <td>True</td>\n",
              "      <td>881935.0</td>\n",
              "      <td>894470.0</td>\n",
              "      <td>12.0</td>\n",
              "      <td>3849.76578</td>\n",
              "      <td>0.0207</td>\n",
              "    </tr>\n",
              "    <tr>\n",
              "      <th>1</th>\n",
              "      <td>2020-11-20</td>\n",
              "      <td>AC</td>\n",
              "      <td>NaN</td>\n",
              "      <td>state</td>\n",
              "      <td>34246</td>\n",
              "      <td>711</td>\n",
              "      <td>249</td>\n",
              "      <td>False</td>\n",
              "      <td>881935.0</td>\n",
              "      <td>894470.0</td>\n",
              "      <td>12.0</td>\n",
              "      <td>3828.63595</td>\n",
              "      <td>0.0208</td>\n",
              "    </tr>\n",
              "    <tr>\n",
              "      <th>2</th>\n",
              "      <td>2020-11-19</td>\n",
              "      <td>AC</td>\n",
              "      <td>NaN</td>\n",
              "      <td>state</td>\n",
              "      <td>33976</td>\n",
              "      <td>710</td>\n",
              "      <td>248</td>\n",
              "      <td>False</td>\n",
              "      <td>881935.0</td>\n",
              "      <td>894470.0</td>\n",
              "      <td>12.0</td>\n",
              "      <td>3798.45048</td>\n",
              "      <td>0.0209</td>\n",
              "    </tr>\n",
              "    <tr>\n",
              "      <th>3</th>\n",
              "      <td>2020-11-18</td>\n",
              "      <td>AC</td>\n",
              "      <td>NaN</td>\n",
              "      <td>state</td>\n",
              "      <td>33725</td>\n",
              "      <td>709</td>\n",
              "      <td>247</td>\n",
              "      <td>False</td>\n",
              "      <td>881935.0</td>\n",
              "      <td>894470.0</td>\n",
              "      <td>12.0</td>\n",
              "      <td>3770.38917</td>\n",
              "      <td>0.0210</td>\n",
              "    </tr>\n",
              "    <tr>\n",
              "      <th>4</th>\n",
              "      <td>2020-11-17</td>\n",
              "      <td>AC</td>\n",
              "      <td>NaN</td>\n",
              "      <td>state</td>\n",
              "      <td>33475</td>\n",
              "      <td>709</td>\n",
              "      <td>246</td>\n",
              "      <td>False</td>\n",
              "      <td>881935.0</td>\n",
              "      <td>894470.0</td>\n",
              "      <td>12.0</td>\n",
              "      <td>3742.43966</td>\n",
              "      <td>0.0212</td>\n",
              "    </tr>\n",
              "    <tr>\n",
              "      <th>...</th>\n",
              "      <td>...</td>\n",
              "      <td>...</td>\n",
              "      <td>...</td>\n",
              "      <td>...</td>\n",
              "      <td>...</td>\n",
              "      <td>...</td>\n",
              "      <td>...</td>\n",
              "      <td>...</td>\n",
              "      <td>...</td>\n",
              "      <td>...</td>\n",
              "      <td>...</td>\n",
              "      <td>...</td>\n",
              "      <td>...</td>\n",
              "    </tr>\n",
              "    <tr>\n",
              "      <th>1018066</th>\n",
              "      <td>2020-06-23</td>\n",
              "      <td>SP</td>\n",
              "      <td>Óleo</td>\n",
              "      <td>city</td>\n",
              "      <td>1</td>\n",
              "      <td>0</td>\n",
              "      <td>5</td>\n",
              "      <td>False</td>\n",
              "      <td>2496.0</td>\n",
              "      <td>2471.0</td>\n",
              "      <td>3533809.0</td>\n",
              "      <td>40.46945</td>\n",
              "      <td>0.0000</td>\n",
              "    </tr>\n",
              "    <tr>\n",
              "      <th>1018067</th>\n",
              "      <td>2020-06-22</td>\n",
              "      <td>SP</td>\n",
              "      <td>Óleo</td>\n",
              "      <td>city</td>\n",
              "      <td>1</td>\n",
              "      <td>0</td>\n",
              "      <td>4</td>\n",
              "      <td>False</td>\n",
              "      <td>2496.0</td>\n",
              "      <td>2471.0</td>\n",
              "      <td>3533809.0</td>\n",
              "      <td>40.46945</td>\n",
              "      <td>0.0000</td>\n",
              "    </tr>\n",
              "    <tr>\n",
              "      <th>1018068</th>\n",
              "      <td>2020-06-21</td>\n",
              "      <td>SP</td>\n",
              "      <td>Óleo</td>\n",
              "      <td>city</td>\n",
              "      <td>1</td>\n",
              "      <td>0</td>\n",
              "      <td>3</td>\n",
              "      <td>False</td>\n",
              "      <td>2496.0</td>\n",
              "      <td>2471.0</td>\n",
              "      <td>3533809.0</td>\n",
              "      <td>40.46945</td>\n",
              "      <td>0.0000</td>\n",
              "    </tr>\n",
              "    <tr>\n",
              "      <th>1018069</th>\n",
              "      <td>2020-06-20</td>\n",
              "      <td>SP</td>\n",
              "      <td>Óleo</td>\n",
              "      <td>city</td>\n",
              "      <td>1</td>\n",
              "      <td>0</td>\n",
              "      <td>2</td>\n",
              "      <td>False</td>\n",
              "      <td>2496.0</td>\n",
              "      <td>2471.0</td>\n",
              "      <td>3533809.0</td>\n",
              "      <td>40.46945</td>\n",
              "      <td>0.0000</td>\n",
              "    </tr>\n",
              "    <tr>\n",
              "      <th>1018070</th>\n",
              "      <td>2020-06-19</td>\n",
              "      <td>SP</td>\n",
              "      <td>Óleo</td>\n",
              "      <td>city</td>\n",
              "      <td>1</td>\n",
              "      <td>0</td>\n",
              "      <td>1</td>\n",
              "      <td>False</td>\n",
              "      <td>2496.0</td>\n",
              "      <td>2471.0</td>\n",
              "      <td>3533809.0</td>\n",
              "      <td>40.46945</td>\n",
              "      <td>0.0000</td>\n",
              "    </tr>\n",
              "  </tbody>\n",
              "</table>\n",
              "<p>1018071 rows × 13 columns</p>\n",
              "</div>"
            ],
            "text/plain": [
              "               date state  ... confirmed_per_100k_inhabitants death_rate\n",
              "0        2020-11-21    AC  ...                     3849.76578     0.0207\n",
              "1        2020-11-20    AC  ...                     3828.63595     0.0208\n",
              "2        2020-11-19    AC  ...                     3798.45048     0.0209\n",
              "3        2020-11-18    AC  ...                     3770.38917     0.0210\n",
              "4        2020-11-17    AC  ...                     3742.43966     0.0212\n",
              "...             ...   ...  ...                            ...        ...\n",
              "1018066  2020-06-23    SP  ...                       40.46945     0.0000\n",
              "1018067  2020-06-22    SP  ...                       40.46945     0.0000\n",
              "1018068  2020-06-21    SP  ...                       40.46945     0.0000\n",
              "1018069  2020-06-20    SP  ...                       40.46945     0.0000\n",
              "1018070  2020-06-19    SP  ...                       40.46945     0.0000\n",
              "\n",
              "[1018071 rows x 13 columns]"
            ]
          },
          "metadata": {
            "tags": []
          },
          "execution_count": 8
        }
      ]
    },
    {
      "cell_type": "code",
      "metadata": {
        "colab": {
          "base_uri": "https://localhost:8080/",
          "height": 309
        },
        "id": "D_orKovaON8G",
        "outputId": "55951505-f1b1-4ef5-abf4-2be43bffa3e6"
      },
      "source": [
        "# view first table data\n",
        "data.head()"
      ],
      "execution_count": 9,
      "outputs": [
        {
          "output_type": "execute_result",
          "data": {
            "text/html": [
              "<div>\n",
              "<style scoped>\n",
              "    .dataframe tbody tr th:only-of-type {\n",
              "        vertical-align: middle;\n",
              "    }\n",
              "\n",
              "    .dataframe tbody tr th {\n",
              "        vertical-align: top;\n",
              "    }\n",
              "\n",
              "    .dataframe thead th {\n",
              "        text-align: right;\n",
              "    }\n",
              "</style>\n",
              "<table border=\"1\" class=\"dataframe\">\n",
              "  <thead>\n",
              "    <tr style=\"text-align: right;\">\n",
              "      <th></th>\n",
              "      <th>date</th>\n",
              "      <th>state</th>\n",
              "      <th>city</th>\n",
              "      <th>place_type</th>\n",
              "      <th>confirmed</th>\n",
              "      <th>deaths</th>\n",
              "      <th>order_for_place</th>\n",
              "      <th>is_last</th>\n",
              "      <th>estimated_population_2019</th>\n",
              "      <th>estimated_population</th>\n",
              "      <th>city_ibge_code</th>\n",
              "      <th>confirmed_per_100k_inhabitants</th>\n",
              "      <th>death_rate</th>\n",
              "    </tr>\n",
              "  </thead>\n",
              "  <tbody>\n",
              "    <tr>\n",
              "      <th>0</th>\n",
              "      <td>2020-11-21</td>\n",
              "      <td>AC</td>\n",
              "      <td>NaN</td>\n",
              "      <td>state</td>\n",
              "      <td>34435</td>\n",
              "      <td>713</td>\n",
              "      <td>250</td>\n",
              "      <td>True</td>\n",
              "      <td>881935.0</td>\n",
              "      <td>894470.0</td>\n",
              "      <td>12.0</td>\n",
              "      <td>3849.76578</td>\n",
              "      <td>0.0207</td>\n",
              "    </tr>\n",
              "    <tr>\n",
              "      <th>1</th>\n",
              "      <td>2020-11-20</td>\n",
              "      <td>AC</td>\n",
              "      <td>NaN</td>\n",
              "      <td>state</td>\n",
              "      <td>34246</td>\n",
              "      <td>711</td>\n",
              "      <td>249</td>\n",
              "      <td>False</td>\n",
              "      <td>881935.0</td>\n",
              "      <td>894470.0</td>\n",
              "      <td>12.0</td>\n",
              "      <td>3828.63595</td>\n",
              "      <td>0.0208</td>\n",
              "    </tr>\n",
              "    <tr>\n",
              "      <th>2</th>\n",
              "      <td>2020-11-19</td>\n",
              "      <td>AC</td>\n",
              "      <td>NaN</td>\n",
              "      <td>state</td>\n",
              "      <td>33976</td>\n",
              "      <td>710</td>\n",
              "      <td>248</td>\n",
              "      <td>False</td>\n",
              "      <td>881935.0</td>\n",
              "      <td>894470.0</td>\n",
              "      <td>12.0</td>\n",
              "      <td>3798.45048</td>\n",
              "      <td>0.0209</td>\n",
              "    </tr>\n",
              "    <tr>\n",
              "      <th>3</th>\n",
              "      <td>2020-11-18</td>\n",
              "      <td>AC</td>\n",
              "      <td>NaN</td>\n",
              "      <td>state</td>\n",
              "      <td>33725</td>\n",
              "      <td>709</td>\n",
              "      <td>247</td>\n",
              "      <td>False</td>\n",
              "      <td>881935.0</td>\n",
              "      <td>894470.0</td>\n",
              "      <td>12.0</td>\n",
              "      <td>3770.38917</td>\n",
              "      <td>0.0210</td>\n",
              "    </tr>\n",
              "    <tr>\n",
              "      <th>4</th>\n",
              "      <td>2020-11-17</td>\n",
              "      <td>AC</td>\n",
              "      <td>NaN</td>\n",
              "      <td>state</td>\n",
              "      <td>33475</td>\n",
              "      <td>709</td>\n",
              "      <td>246</td>\n",
              "      <td>False</td>\n",
              "      <td>881935.0</td>\n",
              "      <td>894470.0</td>\n",
              "      <td>12.0</td>\n",
              "      <td>3742.43966</td>\n",
              "      <td>0.0212</td>\n",
              "    </tr>\n",
              "  </tbody>\n",
              "</table>\n",
              "</div>"
            ],
            "text/plain": [
              "         date state  ... confirmed_per_100k_inhabitants death_rate\n",
              "0  2020-11-21    AC  ...                     3849.76578     0.0207\n",
              "1  2020-11-20    AC  ...                     3828.63595     0.0208\n",
              "2  2020-11-19    AC  ...                     3798.45048     0.0209\n",
              "3  2020-11-18    AC  ...                     3770.38917     0.0210\n",
              "4  2020-11-17    AC  ...                     3742.43966     0.0212\n",
              "\n",
              "[5 rows x 13 columns]"
            ]
          },
          "metadata": {
            "tags": []
          },
          "execution_count": 9
        }
      ]
    },
    {
      "cell_type": "code",
      "metadata": {
        "colab": {
          "base_uri": "https://localhost:8080/"
        },
        "id": "L94F6GpnOcNl",
        "outputId": "152e1b50-0e71-4e17-b03e-4225441ffe8e"
      },
      "source": [
        "# Information\n",
        "data.info()"
      ],
      "execution_count": 10,
      "outputs": [
        {
          "output_type": "stream",
          "text": [
            "<class 'pandas.core.frame.DataFrame'>\n",
            "RangeIndex: 1018071 entries, 0 to 1018070\n",
            "Data columns (total 13 columns):\n",
            " #   Column                          Non-Null Count    Dtype  \n",
            "---  ------                          --------------    -----  \n",
            " 0   date                            1018071 non-null  object \n",
            " 1   state                           1018071 non-null  object \n",
            " 2   city                            1011312 non-null  object \n",
            " 3   place_type                      1018071 non-null  object \n",
            " 4   confirmed                       1018071 non-null  int64  \n",
            " 5   deaths                          1018071 non-null  int64  \n",
            " 6   order_for_place                 1018071 non-null  int64  \n",
            " 7   is_last                         1018071 non-null  bool   \n",
            " 8   estimated_population_2019       1014151 non-null  float64\n",
            " 9   estimated_population            1014151 non-null  float64\n",
            " 10  city_ibge_code                  1014151 non-null  float64\n",
            " 11  confirmed_per_100k_inhabitants  1000493 non-null  float64\n",
            " 12  death_rate                      1018071 non-null  float64\n",
            "dtypes: bool(1), float64(5), int64(3), object(4)\n",
            "memory usage: 94.2+ MB\n"
          ],
          "name": "stdout"
        }
      ]
    },
    {
      "cell_type": "code",
      "metadata": {
        "colab": {
          "base_uri": "https://localhost:8080/"
        },
        "id": "4nqN_jV9Ou_y",
        "outputId": "2ece7e13-c079-45c4-e3f2-f7e4ee409546"
      },
      "source": [
        "# Information the row and columns\n",
        "data.shape"
      ],
      "execution_count": 11,
      "outputs": [
        {
          "output_type": "execute_result",
          "data": {
            "text/plain": [
              "(1018071, 13)"
            ]
          },
          "metadata": {
            "tags": []
          },
          "execution_count": 11
        }
      ]
    },
    {
      "cell_type": "code",
      "metadata": {
        "colab": {
          "base_uri": "https://localhost:8080/",
          "height": 317
        },
        "id": "JmJwW3GNQNR1",
        "outputId": "f130e4da-d06d-4e18-954e-2501a8a714e9"
      },
      "source": [
        "# Description in numeric values\n",
        "data.describe()"
      ],
      "execution_count": 12,
      "outputs": [
        {
          "output_type": "execute_result",
          "data": {
            "text/html": [
              "<div>\n",
              "<style scoped>\n",
              "    .dataframe tbody tr th:only-of-type {\n",
              "        vertical-align: middle;\n",
              "    }\n",
              "\n",
              "    .dataframe tbody tr th {\n",
              "        vertical-align: top;\n",
              "    }\n",
              "\n",
              "    .dataframe thead th {\n",
              "        text-align: right;\n",
              "    }\n",
              "</style>\n",
              "<table border=\"1\" class=\"dataframe\">\n",
              "  <thead>\n",
              "    <tr style=\"text-align: right;\">\n",
              "      <th></th>\n",
              "      <th>confirmed</th>\n",
              "      <th>deaths</th>\n",
              "      <th>order_for_place</th>\n",
              "      <th>estimated_population_2019</th>\n",
              "      <th>estimated_population</th>\n",
              "      <th>city_ibge_code</th>\n",
              "      <th>confirmed_per_100k_inhabitants</th>\n",
              "      <th>death_rate</th>\n",
              "    </tr>\n",
              "  </thead>\n",
              "  <tbody>\n",
              "    <tr>\n",
              "      <th>count</th>\n",
              "      <td>1.018071e+06</td>\n",
              "      <td>1.018071e+06</td>\n",
              "      <td>1.018071e+06</td>\n",
              "      <td>1.014151e+06</td>\n",
              "      <td>1.014151e+06</td>\n",
              "      <td>1.014151e+06</td>\n",
              "      <td>1.000493e+06</td>\n",
              "      <td>1.018071e+06</td>\n",
              "    </tr>\n",
              "    <tr>\n",
              "      <th>mean</th>\n",
              "      <td>1.141846e+03</td>\n",
              "      <td>3.671811e+01</td>\n",
              "      <td>9.458118e+01</td>\n",
              "      <td>9.764661e+04</td>\n",
              "      <td>9.840018e+04</td>\n",
              "      <td>3.189865e+06</td>\n",
              "      <td>1.118852e+03</td>\n",
              "      <td>3.491092e-02</td>\n",
              "    </tr>\n",
              "    <tr>\n",
              "      <th>std</th>\n",
              "      <td>1.416333e+04</td>\n",
              "      <td>5.274423e+02</td>\n",
              "      <td>5.736810e+01</td>\n",
              "      <td>1.023574e+06</td>\n",
              "      <td>1.031032e+06</td>\n",
              "      <td>1.004492e+06</td>\n",
              "      <td>1.424853e+03</td>\n",
              "      <td>9.046850e-02</td>\n",
              "    </tr>\n",
              "    <tr>\n",
              "      <th>min</th>\n",
              "      <td>0.000000e+00</td>\n",
              "      <td>0.000000e+00</td>\n",
              "      <td>1.000000e+00</td>\n",
              "      <td>7.810000e+02</td>\n",
              "      <td>7.760000e+02</td>\n",
              "      <td>1.100000e+01</td>\n",
              "      <td>2.160000e-03</td>\n",
              "      <td>0.000000e+00</td>\n",
              "    </tr>\n",
              "    <tr>\n",
              "      <th>25%</th>\n",
              "      <td>1.300000e+01</td>\n",
              "      <td>0.000000e+00</td>\n",
              "      <td>4.600000e+01</td>\n",
              "      <td>6.093000e+03</td>\n",
              "      <td>6.110000e+03</td>\n",
              "      <td>2.504504e+06</td>\n",
              "      <td>1.364866e+02</td>\n",
              "      <td>0.000000e+00</td>\n",
              "    </tr>\n",
              "    <tr>\n",
              "      <th>50%</th>\n",
              "      <td>6.500000e+01</td>\n",
              "      <td>1.000000e+00</td>\n",
              "      <td>9.200000e+01</td>\n",
              "      <td>1.348300e+04</td>\n",
              "      <td>1.355300e+04</td>\n",
              "      <td>3.138500e+06</td>\n",
              "      <td>6.339597e+02</td>\n",
              "      <td>1.520000e-02</td>\n",
              "    </tr>\n",
              "    <tr>\n",
              "      <th>75%</th>\n",
              "      <td>2.760000e+02</td>\n",
              "      <td>6.000000e+00</td>\n",
              "      <td>1.390000e+02</td>\n",
              "      <td>2.986600e+04</td>\n",
              "      <td>3.023500e+04</td>\n",
              "      <td>4.113452e+06</td>\n",
              "      <td>1.578601e+03</td>\n",
              "      <td>3.450000e-02</td>\n",
              "    </tr>\n",
              "    <tr>\n",
              "      <th>max</th>\n",
              "      <td>1.205435e+06</td>\n",
              "      <td>4.125600e+04</td>\n",
              "      <td>2.650000e+02</td>\n",
              "      <td>4.591905e+07</td>\n",
              "      <td>4.628933e+07</td>\n",
              "      <td>5.300108e+06</td>\n",
              "      <td>2.292315e+04</td>\n",
              "      <td>1.000000e+00</td>\n",
              "    </tr>\n",
              "  </tbody>\n",
              "</table>\n",
              "</div>"
            ],
            "text/plain": [
              "          confirmed        deaths  ...  confirmed_per_100k_inhabitants    death_rate\n",
              "count  1.018071e+06  1.018071e+06  ...                    1.000493e+06  1.018071e+06\n",
              "mean   1.141846e+03  3.671811e+01  ...                    1.118852e+03  3.491092e-02\n",
              "std    1.416333e+04  5.274423e+02  ...                    1.424853e+03  9.046850e-02\n",
              "min    0.000000e+00  0.000000e+00  ...                    2.160000e-03  0.000000e+00\n",
              "25%    1.300000e+01  0.000000e+00  ...                    1.364866e+02  0.000000e+00\n",
              "50%    6.500000e+01  1.000000e+00  ...                    6.339597e+02  1.520000e-02\n",
              "75%    2.760000e+02  6.000000e+00  ...                    1.578601e+03  3.450000e-02\n",
              "max    1.205435e+06  4.125600e+04  ...                    2.292315e+04  1.000000e+00\n",
              "\n",
              "[8 rows x 8 columns]"
            ]
          },
          "metadata": {
            "tags": []
          },
          "execution_count": 12
        }
      ]
    },
    {
      "cell_type": "code",
      "metadata": {
        "colab": {
          "base_uri": "https://localhost:8080/",
          "height": 317
        },
        "id": "UBdYbTy1QcN3",
        "outputId": "a3c42f76-25cd-4514-e74a-0597c68570fb"
      },
      "source": [
        "# inversion row of columns\n",
        "data.describe().transpose()"
      ],
      "execution_count": 13,
      "outputs": [
        {
          "output_type": "execute_result",
          "data": {
            "text/html": [
              "<div>\n",
              "<style scoped>\n",
              "    .dataframe tbody tr th:only-of-type {\n",
              "        vertical-align: middle;\n",
              "    }\n",
              "\n",
              "    .dataframe tbody tr th {\n",
              "        vertical-align: top;\n",
              "    }\n",
              "\n",
              "    .dataframe thead th {\n",
              "        text-align: right;\n",
              "    }\n",
              "</style>\n",
              "<table border=\"1\" class=\"dataframe\">\n",
              "  <thead>\n",
              "    <tr style=\"text-align: right;\">\n",
              "      <th></th>\n",
              "      <th>count</th>\n",
              "      <th>mean</th>\n",
              "      <th>std</th>\n",
              "      <th>min</th>\n",
              "      <th>25%</th>\n",
              "      <th>50%</th>\n",
              "      <th>75%</th>\n",
              "      <th>max</th>\n",
              "    </tr>\n",
              "  </thead>\n",
              "  <tbody>\n",
              "    <tr>\n",
              "      <th>confirmed</th>\n",
              "      <td>1018071.0</td>\n",
              "      <td>1.141846e+03</td>\n",
              "      <td>1.416333e+04</td>\n",
              "      <td>0.00000</td>\n",
              "      <td>1.300000e+01</td>\n",
              "      <td>6.500000e+01</td>\n",
              "      <td>2.760000e+02</td>\n",
              "      <td>1.205435e+06</td>\n",
              "    </tr>\n",
              "    <tr>\n",
              "      <th>deaths</th>\n",
              "      <td>1018071.0</td>\n",
              "      <td>3.671811e+01</td>\n",
              "      <td>5.274423e+02</td>\n",
              "      <td>0.00000</td>\n",
              "      <td>0.000000e+00</td>\n",
              "      <td>1.000000e+00</td>\n",
              "      <td>6.000000e+00</td>\n",
              "      <td>4.125600e+04</td>\n",
              "    </tr>\n",
              "    <tr>\n",
              "      <th>order_for_place</th>\n",
              "      <td>1018071.0</td>\n",
              "      <td>9.458118e+01</td>\n",
              "      <td>5.736810e+01</td>\n",
              "      <td>1.00000</td>\n",
              "      <td>4.600000e+01</td>\n",
              "      <td>9.200000e+01</td>\n",
              "      <td>1.390000e+02</td>\n",
              "      <td>2.650000e+02</td>\n",
              "    </tr>\n",
              "    <tr>\n",
              "      <th>estimated_population_2019</th>\n",
              "      <td>1014151.0</td>\n",
              "      <td>9.764661e+04</td>\n",
              "      <td>1.023574e+06</td>\n",
              "      <td>781.00000</td>\n",
              "      <td>6.093000e+03</td>\n",
              "      <td>1.348300e+04</td>\n",
              "      <td>2.986600e+04</td>\n",
              "      <td>4.591905e+07</td>\n",
              "    </tr>\n",
              "    <tr>\n",
              "      <th>estimated_population</th>\n",
              "      <td>1014151.0</td>\n",
              "      <td>9.840018e+04</td>\n",
              "      <td>1.031032e+06</td>\n",
              "      <td>776.00000</td>\n",
              "      <td>6.110000e+03</td>\n",
              "      <td>1.355300e+04</td>\n",
              "      <td>3.023500e+04</td>\n",
              "      <td>4.628933e+07</td>\n",
              "    </tr>\n",
              "    <tr>\n",
              "      <th>city_ibge_code</th>\n",
              "      <td>1014151.0</td>\n",
              "      <td>3.189865e+06</td>\n",
              "      <td>1.004492e+06</td>\n",
              "      <td>11.00000</td>\n",
              "      <td>2.504504e+06</td>\n",
              "      <td>3.138500e+06</td>\n",
              "      <td>4.113452e+06</td>\n",
              "      <td>5.300108e+06</td>\n",
              "    </tr>\n",
              "    <tr>\n",
              "      <th>confirmed_per_100k_inhabitants</th>\n",
              "      <td>1000493.0</td>\n",
              "      <td>1.118852e+03</td>\n",
              "      <td>1.424853e+03</td>\n",
              "      <td>0.00216</td>\n",
              "      <td>1.364866e+02</td>\n",
              "      <td>6.339597e+02</td>\n",
              "      <td>1.578601e+03</td>\n",
              "      <td>2.292315e+04</td>\n",
              "    </tr>\n",
              "    <tr>\n",
              "      <th>death_rate</th>\n",
              "      <td>1018071.0</td>\n",
              "      <td>3.491092e-02</td>\n",
              "      <td>9.046850e-02</td>\n",
              "      <td>0.00000</td>\n",
              "      <td>0.000000e+00</td>\n",
              "      <td>1.520000e-02</td>\n",
              "      <td>3.450000e-02</td>\n",
              "      <td>1.000000e+00</td>\n",
              "    </tr>\n",
              "  </tbody>\n",
              "</table>\n",
              "</div>"
            ],
            "text/plain": [
              "                                    count  ...           max\n",
              "confirmed                       1018071.0  ...  1.205435e+06\n",
              "deaths                          1018071.0  ...  4.125600e+04\n",
              "order_for_place                 1018071.0  ...  2.650000e+02\n",
              "estimated_population_2019       1014151.0  ...  4.591905e+07\n",
              "estimated_population            1014151.0  ...  4.628933e+07\n",
              "city_ibge_code                  1014151.0  ...  5.300108e+06\n",
              "confirmed_per_100k_inhabitants  1000493.0  ...  2.292315e+04\n",
              "death_rate                      1018071.0  ...  1.000000e+00\n",
              "\n",
              "[8 rows x 8 columns]"
            ]
          },
          "metadata": {
            "tags": []
          },
          "execution_count": 13
        }
      ]
    },
    {
      "cell_type": "code",
      "metadata": {
        "id": "xYslCR8bQvkX"
      },
      "source": [
        "# transform the data column from object type to date type\n",
        "data['date'] = pd.to_datetime(data['date'])"
      ],
      "execution_count": 14,
      "outputs": []
    },
    {
      "cell_type": "code",
      "metadata": {
        "colab": {
          "base_uri": "https://localhost:8080/",
          "height": 309
        },
        "id": "S3Fdibc3R1wk",
        "outputId": "768aeaf7-164c-404f-d878-6b4460d0bfee"
      },
      "source": [
        "data.head()"
      ],
      "execution_count": 15,
      "outputs": [
        {
          "output_type": "execute_result",
          "data": {
            "text/html": [
              "<div>\n",
              "<style scoped>\n",
              "    .dataframe tbody tr th:only-of-type {\n",
              "        vertical-align: middle;\n",
              "    }\n",
              "\n",
              "    .dataframe tbody tr th {\n",
              "        vertical-align: top;\n",
              "    }\n",
              "\n",
              "    .dataframe thead th {\n",
              "        text-align: right;\n",
              "    }\n",
              "</style>\n",
              "<table border=\"1\" class=\"dataframe\">\n",
              "  <thead>\n",
              "    <tr style=\"text-align: right;\">\n",
              "      <th></th>\n",
              "      <th>date</th>\n",
              "      <th>state</th>\n",
              "      <th>city</th>\n",
              "      <th>place_type</th>\n",
              "      <th>confirmed</th>\n",
              "      <th>deaths</th>\n",
              "      <th>order_for_place</th>\n",
              "      <th>is_last</th>\n",
              "      <th>estimated_population_2019</th>\n",
              "      <th>estimated_population</th>\n",
              "      <th>city_ibge_code</th>\n",
              "      <th>confirmed_per_100k_inhabitants</th>\n",
              "      <th>death_rate</th>\n",
              "    </tr>\n",
              "  </thead>\n",
              "  <tbody>\n",
              "    <tr>\n",
              "      <th>0</th>\n",
              "      <td>2020-11-21</td>\n",
              "      <td>AC</td>\n",
              "      <td>NaN</td>\n",
              "      <td>state</td>\n",
              "      <td>34435</td>\n",
              "      <td>713</td>\n",
              "      <td>250</td>\n",
              "      <td>True</td>\n",
              "      <td>881935.0</td>\n",
              "      <td>894470.0</td>\n",
              "      <td>12.0</td>\n",
              "      <td>3849.76578</td>\n",
              "      <td>0.0207</td>\n",
              "    </tr>\n",
              "    <tr>\n",
              "      <th>1</th>\n",
              "      <td>2020-11-20</td>\n",
              "      <td>AC</td>\n",
              "      <td>NaN</td>\n",
              "      <td>state</td>\n",
              "      <td>34246</td>\n",
              "      <td>711</td>\n",
              "      <td>249</td>\n",
              "      <td>False</td>\n",
              "      <td>881935.0</td>\n",
              "      <td>894470.0</td>\n",
              "      <td>12.0</td>\n",
              "      <td>3828.63595</td>\n",
              "      <td>0.0208</td>\n",
              "    </tr>\n",
              "    <tr>\n",
              "      <th>2</th>\n",
              "      <td>2020-11-19</td>\n",
              "      <td>AC</td>\n",
              "      <td>NaN</td>\n",
              "      <td>state</td>\n",
              "      <td>33976</td>\n",
              "      <td>710</td>\n",
              "      <td>248</td>\n",
              "      <td>False</td>\n",
              "      <td>881935.0</td>\n",
              "      <td>894470.0</td>\n",
              "      <td>12.0</td>\n",
              "      <td>3798.45048</td>\n",
              "      <td>0.0209</td>\n",
              "    </tr>\n",
              "    <tr>\n",
              "      <th>3</th>\n",
              "      <td>2020-11-18</td>\n",
              "      <td>AC</td>\n",
              "      <td>NaN</td>\n",
              "      <td>state</td>\n",
              "      <td>33725</td>\n",
              "      <td>709</td>\n",
              "      <td>247</td>\n",
              "      <td>False</td>\n",
              "      <td>881935.0</td>\n",
              "      <td>894470.0</td>\n",
              "      <td>12.0</td>\n",
              "      <td>3770.38917</td>\n",
              "      <td>0.0210</td>\n",
              "    </tr>\n",
              "    <tr>\n",
              "      <th>4</th>\n",
              "      <td>2020-11-17</td>\n",
              "      <td>AC</td>\n",
              "      <td>NaN</td>\n",
              "      <td>state</td>\n",
              "      <td>33475</td>\n",
              "      <td>709</td>\n",
              "      <td>246</td>\n",
              "      <td>False</td>\n",
              "      <td>881935.0</td>\n",
              "      <td>894470.0</td>\n",
              "      <td>12.0</td>\n",
              "      <td>3742.43966</td>\n",
              "      <td>0.0212</td>\n",
              "    </tr>\n",
              "  </tbody>\n",
              "</table>\n",
              "</div>"
            ],
            "text/plain": [
              "        date state  ... confirmed_per_100k_inhabitants death_rate\n",
              "0 2020-11-21    AC  ...                     3849.76578     0.0207\n",
              "1 2020-11-20    AC  ...                     3828.63595     0.0208\n",
              "2 2020-11-19    AC  ...                     3798.45048     0.0209\n",
              "3 2020-11-18    AC  ...                     3770.38917     0.0210\n",
              "4 2020-11-17    AC  ...                     3742.43966     0.0212\n",
              "\n",
              "[5 rows x 13 columns]"
            ]
          },
          "metadata": {
            "tags": []
          },
          "execution_count": 15
        }
      ]
    },
    {
      "cell_type": "code",
      "metadata": {
        "colab": {
          "base_uri": "https://localhost:8080/"
        },
        "id": "II3jhx0kR7o1",
        "outputId": "3f36f17e-ce0b-4ab6-b4af-f074d6072563"
      },
      "source": [
        "# View column modified\n",
        "data['date']"
      ],
      "execution_count": 16,
      "outputs": [
        {
          "output_type": "execute_result",
          "data": {
            "text/plain": [
              "0         2020-11-21\n",
              "1         2020-11-20\n",
              "2         2020-11-19\n",
              "3         2020-11-18\n",
              "4         2020-11-17\n",
              "             ...    \n",
              "1018066   2020-06-23\n",
              "1018067   2020-06-22\n",
              "1018068   2020-06-21\n",
              "1018069   2020-06-20\n",
              "1018070   2020-06-19\n",
              "Name: date, Length: 1018071, dtype: datetime64[ns]"
            ]
          },
          "metadata": {
            "tags": []
          },
          "execution_count": 16
        }
      ]
    },
    {
      "cell_type": "code",
      "metadata": {
        "colab": {
          "base_uri": "https://localhost:8080/"
        },
        "id": "ZGAsRSWkSKps",
        "outputId": "5f44c43d-6675-480e-b202-77869f80373b"
      },
      "source": [
        "# Verify information to column\n",
        "data.info()"
      ],
      "execution_count": 17,
      "outputs": [
        {
          "output_type": "stream",
          "text": [
            "<class 'pandas.core.frame.DataFrame'>\n",
            "RangeIndex: 1018071 entries, 0 to 1018070\n",
            "Data columns (total 13 columns):\n",
            " #   Column                          Non-Null Count    Dtype         \n",
            "---  ------                          --------------    -----         \n",
            " 0   date                            1018071 non-null  datetime64[ns]\n",
            " 1   state                           1018071 non-null  object        \n",
            " 2   city                            1011312 non-null  object        \n",
            " 3   place_type                      1018071 non-null  object        \n",
            " 4   confirmed                       1018071 non-null  int64         \n",
            " 5   deaths                          1018071 non-null  int64         \n",
            " 6   order_for_place                 1018071 non-null  int64         \n",
            " 7   is_last                         1018071 non-null  bool          \n",
            " 8   estimated_population_2019       1014151 non-null  float64       \n",
            " 9   estimated_population            1014151 non-null  float64       \n",
            " 10  city_ibge_code                  1014151 non-null  float64       \n",
            " 11  confirmed_per_100k_inhabitants  1000493 non-null  float64       \n",
            " 12  death_rate                      1018071 non-null  float64       \n",
            "dtypes: bool(1), datetime64[ns](1), float64(5), int64(3), object(3)\n",
            "memory usage: 94.2+ MB\n"
          ],
          "name": "stdout"
        }
      ]
    },
    {
      "cell_type": "code",
      "metadata": {
        "id": "_ieLJJXgSeWM"
      },
      "source": [
        "# transform data into your language\n",
        "data.rename(\n",
        "    columns = {'date': 'data',\n",
        "               'state': 'estado',\n",
        "               'city': 'cidade',\n",
        "               'place_type': 'tipo_lugar',\n",
        "               'confirmed': 'confirmado',\n",
        "               'deaths': 'mortes',\n",
        "               'order_for_place': 'ordem_local',\n",
        "               'is_last': 'ultimo',\n",
        "               'estimated_population_2019': 'populacao_2019',\n",
        "               'estimated_population': 'populacao',\n",
        "               'city_ibge_code': 'cod_ibge',\n",
        "               'confirmed_per_100k_inhabitants': 'confirmados_100k',\n",
        "               'death_rate': 'indice_morte'},\n",
        "            inplace=True\n",
        ")"
      ],
      "execution_count": 20,
      "outputs": []
    },
    {
      "cell_type": "code",
      "metadata": {
        "colab": {
          "base_uri": "https://localhost:8080/"
        },
        "id": "6rGqE2CbUcLb",
        "outputId": "545e20eb-ceb1-4663-ea1d-a3d690052bf0"
      },
      "source": [
        "# column names changed\n",
        "data.info()"
      ],
      "execution_count": 21,
      "outputs": [
        {
          "output_type": "stream",
          "text": [
            "<class 'pandas.core.frame.DataFrame'>\n",
            "RangeIndex: 1018071 entries, 0 to 1018070\n",
            "Data columns (total 13 columns):\n",
            " #   Column            Non-Null Count    Dtype         \n",
            "---  ------            --------------    -----         \n",
            " 0   data              1018071 non-null  datetime64[ns]\n",
            " 1   estado            1018071 non-null  object        \n",
            " 2   cidade            1011312 non-null  object        \n",
            " 3   tipo_lugar        1018071 non-null  object        \n",
            " 4   confirmado        1018071 non-null  int64         \n",
            " 5   mortes            1018071 non-null  int64         \n",
            " 6   ordem_local       1018071 non-null  int64         \n",
            " 7   ultimo            1018071 non-null  bool          \n",
            " 8   populacao_2019    1014151 non-null  float64       \n",
            " 9   populacao         1014151 non-null  float64       \n",
            " 10  cod_ibge          1014151 non-null  float64       \n",
            " 11  confirmados_100k  1000493 non-null  float64       \n",
            " 12  indice_morte      1018071 non-null  float64       \n",
            "dtypes: bool(1), datetime64[ns](1), float64(5), int64(3), object(3)\n",
            "memory usage: 94.2+ MB\n"
          ],
          "name": "stdout"
        }
      ]
    },
    {
      "cell_type": "code",
      "metadata": {
        "colab": {
          "base_uri": "https://localhost:8080/"
        },
        "id": "juDwfUV2U3oh",
        "outputId": "26fd220f-e361-48f4-99c3-a2e4da4a98f9"
      },
      "source": [
        "# verify duplicate data\n",
        "duplicate_data = data[data.duplicated()]\n",
        "print(f'Duplicate Lines: {duplicate_data.shape}')\n"
      ],
      "execution_count": 23,
      "outputs": [
        {
          "output_type": "stream",
          "text": [
            "Duplicate Lines: (0, 13)\n"
          ],
          "name": "stdout"
        }
      ]
    },
    {
      "cell_type": "code",
      "metadata": {
        "colab": {
          "base_uri": "https://localhost:8080/"
        },
        "id": "u67oYD9qVYQa",
        "outputId": "089ceaa4-0f29-4969-c606-bb80eae4e74b"
      },
      "source": [
        "# verify value null\n",
        "data.isnull().values.any()"
      ],
      "execution_count": 25,
      "outputs": [
        {
          "output_type": "execute_result",
          "data": {
            "text/plain": [
              "True"
            ]
          },
          "metadata": {
            "tags": []
          },
          "execution_count": 25
        }
      ]
    },
    {
      "cell_type": "code",
      "metadata": {
        "colab": {
          "base_uri": "https://localhost:8080/"
        },
        "id": "diQHn4LbWKS5",
        "outputId": "f08df98f-5887-49b8-a264-99594bb8e8a0"
      },
      "source": [
        "# sums of columns showing null values\n",
        "data.isnull().sum()"
      ],
      "execution_count": 26,
      "outputs": [
        {
          "output_type": "execute_result",
          "data": {
            "text/plain": [
              "data                    0\n",
              "estado                  0\n",
              "cidade               6759\n",
              "tipo_lugar              0\n",
              "confirmado              0\n",
              "mortes                  0\n",
              "ordem_local             0\n",
              "ultimo                  0\n",
              "populacao_2019       3920\n",
              "populacao            3920\n",
              "cod_ibge             3920\n",
              "confirmados_100k    17578\n",
              "indice_morte            0\n",
              "dtype: int64"
            ]
          },
          "metadata": {
            "tags": []
          },
          "execution_count": 26
        }
      ]
    },
    {
      "cell_type": "code",
      "metadata": {
        "id": "SG8ezfpub6Ia"
      },
      "source": [
        "# Correcting the null values\n",
        "data.dropna(subset= ['cidade'], inplace=True)"
      ],
      "execution_count": 27,
      "outputs": []
    },
    {
      "cell_type": "code",
      "metadata": {
        "colab": {
          "base_uri": "https://localhost:8080/"
        },
        "id": "TepUKFhXchnq",
        "outputId": "f40ad007-f395-4447-a39f-ceb80575e5a5"
      },
      "source": [
        "# Check alteration\n",
        "data['cidade'].isnull().sum()"
      ],
      "execution_count": 28,
      "outputs": [
        {
          "output_type": "execute_result",
          "data": {
            "text/plain": [
              "0"
            ]
          },
          "metadata": {
            "tags": []
          },
          "execution_count": 28
        }
      ]
    },
    {
      "cell_type": "code",
      "metadata": {
        "colab": {
          "base_uri": "https://localhost:8080/"
        },
        "id": "lWiM1-dEdBb2",
        "outputId": "975bd3e5-6606-4fd7-84bb-58b4ad0ed103"
      },
      "source": [
        "data.info()"
      ],
      "execution_count": 29,
      "outputs": [
        {
          "output_type": "stream",
          "text": [
            "<class 'pandas.core.frame.DataFrame'>\n",
            "Int64Index: 1011312 entries, 250 to 1018070\n",
            "Data columns (total 13 columns):\n",
            " #   Column            Non-Null Count    Dtype         \n",
            "---  ------            --------------    -----         \n",
            " 0   data              1011312 non-null  datetime64[ns]\n",
            " 1   estado            1011312 non-null  object        \n",
            " 2   cidade            1011312 non-null  object        \n",
            " 3   tipo_lugar        1011312 non-null  object        \n",
            " 4   confirmado        1011312 non-null  int64         \n",
            " 5   mortes            1011312 non-null  int64         \n",
            " 6   ordem_local       1011312 non-null  int64         \n",
            " 7   ultimo            1011312 non-null  bool          \n",
            " 8   populacao_2019    1007392 non-null  float64       \n",
            " 9   populacao         1007392 non-null  float64       \n",
            " 10  cod_ibge          1007392 non-null  float64       \n",
            " 11  confirmados_100k  993740 non-null   float64       \n",
            " 12  indice_morte      1011312 non-null  float64       \n",
            "dtypes: bool(1), datetime64[ns](1), float64(5), int64(3), object(3)\n",
            "memory usage: 101.3+ MB\n"
          ],
          "name": "stdout"
        }
      ]
    },
    {
      "cell_type": "code",
      "metadata": {
        "colab": {
          "base_uri": "https://localhost:8080/"
        },
        "id": "fm1uoBsbdUKD",
        "outputId": "a95f7822-ff92-42c3-9eaa-7c8b85d0e5e5"
      },
      "source": [
        "data['populacao_2019'].describe()"
      ],
      "execution_count": 30,
      "outputs": [
        {
          "output_type": "execute_result",
          "data": {
            "text/plain": [
              "count    1.007392e+06\n",
              "mean     4.504613e+04\n",
              "std      2.560915e+05\n",
              "min      7.810000e+02\n",
              "25%      6.054000e+03\n",
              "50%      1.335700e+04\n",
              "75%      2.913200e+04\n",
              "max      1.225202e+07\n",
              "Name: populacao_2019, dtype: float64"
            ]
          },
          "metadata": {
            "tags": []
          },
          "execution_count": 30
        }
      ]
    },
    {
      "cell_type": "code",
      "metadata": {
        "id": "GpEmD4-RdgZV"
      },
      "source": [
        "# fill in the empty values\n",
        "data['populacao_2019'].fillna(data['populacao_2019'].mean(), inplace=True)\n"
      ],
      "execution_count": 33,
      "outputs": []
    },
    {
      "cell_type": "code",
      "metadata": {
        "colab": {
          "base_uri": "https://localhost:8080/"
        },
        "id": "i0CP1yqaeIhg",
        "outputId": "595ab085-578a-4172-9443-467f45fca936"
      },
      "source": [
        "data.isnull().sum()"
      ],
      "execution_count": 35,
      "outputs": [
        {
          "output_type": "execute_result",
          "data": {
            "text/plain": [
              "data                    0\n",
              "estado                  0\n",
              "cidade                  0\n",
              "tipo_lugar              0\n",
              "confirmado              0\n",
              "mortes                  0\n",
              "ordem_local             0\n",
              "ultimo                  0\n",
              "populacao_2019          0\n",
              "populacao            3920\n",
              "cod_ibge             3920\n",
              "confirmados_100k    17572\n",
              "indice_morte            0\n",
              "dtype: int64"
            ]
          },
          "metadata": {
            "tags": []
          },
          "execution_count": 35
        }
      ]
    },
    {
      "cell_type": "code",
      "metadata": {
        "id": "m08Ragd7ejtr"
      },
      "source": [
        "# fill in the empty values\n",
        "data['populacao'].fillna(data['populacao'].mean(), inplace=True)\n",
        "data['cod_ibge'].fillna(data['cod_ibge'].mean(), inplace=True)"
      ],
      "execution_count": 37,
      "outputs": []
    },
    {
      "cell_type": "code",
      "metadata": {
        "colab": {
          "base_uri": "https://localhost:8080/"
        },
        "id": "7Wx8LNfCe1w7",
        "outputId": "20ac6f0e-ee79-434e-9bad-2a3309ff1208"
      },
      "source": [
        "data.isnull().sum()"
      ],
      "execution_count": 38,
      "outputs": [
        {
          "output_type": "execute_result",
          "data": {
            "text/plain": [
              "data                    0\n",
              "estado                  0\n",
              "cidade                  0\n",
              "tipo_lugar              0\n",
              "confirmado              0\n",
              "mortes                  0\n",
              "ordem_local             0\n",
              "ultimo                  0\n",
              "populacao_2019          0\n",
              "populacao               0\n",
              "cod_ibge                0\n",
              "confirmados_100k    17572\n",
              "indice_morte            0\n",
              "dtype: int64"
            ]
          },
          "metadata": {
            "tags": []
          },
          "execution_count": 38
        }
      ]
    },
    {
      "cell_type": "code",
      "metadata": {
        "id": "gIO4yp--fCEF"
      },
      "source": [
        "# eliminate unnecessary column\n",
        "data.drop(\"cod_ibge\", axis= \"columns\", inplace=True)"
      ],
      "execution_count": 39,
      "outputs": []
    },
    {
      "cell_type": "code",
      "metadata": {
        "colab": {
          "base_uri": "https://localhost:8080/"
        },
        "id": "qxV-TcogfZjT",
        "outputId": "921fa376-28da-4657-92cc-efc11f1694e7"
      },
      "source": [
        "data.isnull().sum()"
      ],
      "execution_count": 40,
      "outputs": [
        {
          "output_type": "execute_result",
          "data": {
            "text/plain": [
              "data                    0\n",
              "estado                  0\n",
              "cidade                  0\n",
              "tipo_lugar              0\n",
              "confirmado              0\n",
              "mortes                  0\n",
              "ordem_local             0\n",
              "ultimo                  0\n",
              "populacao_2019          0\n",
              "populacao               0\n",
              "confirmados_100k    17572\n",
              "indice_morte            0\n",
              "dtype: int64"
            ]
          },
          "metadata": {
            "tags": []
          },
          "execution_count": 40
        }
      ]
    },
    {
      "cell_type": "code",
      "metadata": {
        "id": "_oVSkWoofkCB"
      },
      "source": [
        "data['confirmados_100k'].fillna(data['confirmados_100k'].mean(), inplace=True)"
      ],
      "execution_count": 41,
      "outputs": []
    },
    {
      "cell_type": "code",
      "metadata": {
        "colab": {
          "base_uri": "https://localhost:8080/"
        },
        "id": "oB_vmsQ8fwIi",
        "outputId": "ff40343f-91bd-41e3-d811-687612952a13"
      },
      "source": [
        "# clean dataset of null data\n",
        "data.isnull().sum()"
      ],
      "execution_count": 42,
      "outputs": [
        {
          "output_type": "execute_result",
          "data": {
            "text/plain": [
              "data                0\n",
              "estado              0\n",
              "cidade              0\n",
              "tipo_lugar          0\n",
              "confirmado          0\n",
              "mortes              0\n",
              "ordem_local         0\n",
              "ultimo              0\n",
              "populacao_2019      0\n",
              "populacao           0\n",
              "confirmados_100k    0\n",
              "indice_morte        0\n",
              "dtype: int64"
            ]
          },
          "metadata": {
            "tags": []
          },
          "execution_count": 42
        }
      ]
    },
    {
      "cell_type": "code",
      "metadata": {
        "colab": {
          "base_uri": "https://localhost:8080/"
        },
        "id": "iMGMxXxfgNYU",
        "outputId": "970ac676-c148-4342-b75c-b2e4d4d9376a"
      },
      "source": [
        "# Data organized\n",
        "data.info()"
      ],
      "execution_count": 43,
      "outputs": [
        {
          "output_type": "stream",
          "text": [
            "<class 'pandas.core.frame.DataFrame'>\n",
            "Int64Index: 1011312 entries, 250 to 1018070\n",
            "Data columns (total 12 columns):\n",
            " #   Column            Non-Null Count    Dtype         \n",
            "---  ------            --------------    -----         \n",
            " 0   data              1011312 non-null  datetime64[ns]\n",
            " 1   estado            1011312 non-null  object        \n",
            " 2   cidade            1011312 non-null  object        \n",
            " 3   tipo_lugar        1011312 non-null  object        \n",
            " 4   confirmado        1011312 non-null  int64         \n",
            " 5   mortes            1011312 non-null  int64         \n",
            " 6   ordem_local       1011312 non-null  int64         \n",
            " 7   ultimo            1011312 non-null  bool          \n",
            " 8   populacao_2019    1011312 non-null  float64       \n",
            " 9   populacao         1011312 non-null  float64       \n",
            " 10  confirmados_100k  1011312 non-null  float64       \n",
            " 11  indice_morte      1011312 non-null  float64       \n",
            "dtypes: bool(1), datetime64[ns](1), float64(4), int64(3), object(3)\n",
            "memory usage: 93.6+ MB\n"
          ],
          "name": "stdout"
        }
      ]
    },
    {
      "cell_type": "code",
      "metadata": {
        "colab": {
          "base_uri": "https://localhost:8080/"
        },
        "id": "Jbb4SxFqhPpd",
        "outputId": "5710c543-a094-4ca7-c6f4-9f8caba22407"
      },
      "source": [
        "# separating data to work\n",
        "dice = data.groupby('estado')['cidade'].count()\n",
        "dice"
      ],
      "execution_count": 45,
      "outputs": [
        {
          "output_type": "execute_result",
          "data": {
            "text/plain": [
              "estado\n",
              "AC      4343\n",
              "AL     20691\n",
              "AM     13302\n",
              "AP      3307\n",
              "BA     79429\n",
              "CE     39197\n",
              "DF       498\n",
              "ES     12988\n",
              "GO     44284\n",
              "MA     44086\n",
              "MG    138366\n",
              "MS     14309\n",
              "MT     11897\n",
              "PA     29822\n",
              "PB     41521\n",
              "PE     38400\n",
              "PI     41516\n",
              "PR     72527\n",
              "RJ     19340\n",
              "RN     27123\n",
              "RO      9303\n",
              "RR      3064\n",
              "RS     87466\n",
              "SC     57972\n",
              "SE     14021\n",
              "SP    121104\n",
              "TO     21436\n",
              "Name: cidade, dtype: int64"
            ]
          },
          "metadata": {
            "tags": []
          },
          "execution_count": 45
        }
      ]
    },
    {
      "cell_type": "code",
      "metadata": {
        "colab": {
          "base_uri": "https://localhost:8080/",
          "height": 609
        },
        "id": "6RGhW2_OhRMz",
        "outputId": "011623cd-475e-4b24-c10e-ed19ce945b64"
      },
      "source": [
        "# Separate state that I want to work\n",
        "dice_sp = data[data['estado'] == 'SP']\n",
        "dice_sp"
      ],
      "execution_count": 47,
      "outputs": [
        {
          "output_type": "execute_result",
          "data": {
            "text/html": [
              "<div>\n",
              "<style scoped>\n",
              "    .dataframe tbody tr th:only-of-type {\n",
              "        vertical-align: middle;\n",
              "    }\n",
              "\n",
              "    .dataframe tbody tr th {\n",
              "        vertical-align: top;\n",
              "    }\n",
              "\n",
              "    .dataframe thead th {\n",
              "        text-align: right;\n",
              "    }\n",
              "</style>\n",
              "<table border=\"1\" class=\"dataframe\">\n",
              "  <thead>\n",
              "    <tr style=\"text-align: right;\">\n",
              "      <th></th>\n",
              "      <th>data</th>\n",
              "      <th>estado</th>\n",
              "      <th>cidade</th>\n",
              "      <th>tipo_lugar</th>\n",
              "      <th>confirmado</th>\n",
              "      <th>mortes</th>\n",
              "      <th>ordem_local</th>\n",
              "      <th>ultimo</th>\n",
              "      <th>populacao_2019</th>\n",
              "      <th>populacao</th>\n",
              "      <th>confirmados_100k</th>\n",
              "      <th>indice_morte</th>\n",
              "    </tr>\n",
              "  </thead>\n",
              "  <tbody>\n",
              "    <tr>\n",
              "      <th>896967</th>\n",
              "      <td>2020-11-19</td>\n",
              "      <td>SP</td>\n",
              "      <td>Adamantina</td>\n",
              "      <td>city</td>\n",
              "      <td>496</td>\n",
              "      <td>13</td>\n",
              "      <td>215</td>\n",
              "      <td>True</td>\n",
              "      <td>35068.0</td>\n",
              "      <td>35111.0</td>\n",
              "      <td>1412.66270</td>\n",
              "      <td>0.0262</td>\n",
              "    </tr>\n",
              "    <tr>\n",
              "      <th>896968</th>\n",
              "      <td>2020-11-18</td>\n",
              "      <td>SP</td>\n",
              "      <td>Adamantina</td>\n",
              "      <td>city</td>\n",
              "      <td>493</td>\n",
              "      <td>13</td>\n",
              "      <td>214</td>\n",
              "      <td>False</td>\n",
              "      <td>35068.0</td>\n",
              "      <td>35111.0</td>\n",
              "      <td>1404.11837</td>\n",
              "      <td>0.0264</td>\n",
              "    </tr>\n",
              "    <tr>\n",
              "      <th>896969</th>\n",
              "      <td>2020-11-17</td>\n",
              "      <td>SP</td>\n",
              "      <td>Adamantina</td>\n",
              "      <td>city</td>\n",
              "      <td>493</td>\n",
              "      <td>13</td>\n",
              "      <td>213</td>\n",
              "      <td>False</td>\n",
              "      <td>35068.0</td>\n",
              "      <td>35111.0</td>\n",
              "      <td>1404.11837</td>\n",
              "      <td>0.0264</td>\n",
              "    </tr>\n",
              "    <tr>\n",
              "      <th>896970</th>\n",
              "      <td>2020-11-16</td>\n",
              "      <td>SP</td>\n",
              "      <td>Adamantina</td>\n",
              "      <td>city</td>\n",
              "      <td>480</td>\n",
              "      <td>13</td>\n",
              "      <td>212</td>\n",
              "      <td>False</td>\n",
              "      <td>35068.0</td>\n",
              "      <td>35111.0</td>\n",
              "      <td>1367.09293</td>\n",
              "      <td>0.0271</td>\n",
              "    </tr>\n",
              "    <tr>\n",
              "      <th>896971</th>\n",
              "      <td>2020-11-15</td>\n",
              "      <td>SP</td>\n",
              "      <td>Adamantina</td>\n",
              "      <td>city</td>\n",
              "      <td>480</td>\n",
              "      <td>13</td>\n",
              "      <td>211</td>\n",
              "      <td>False</td>\n",
              "      <td>35068.0</td>\n",
              "      <td>35111.0</td>\n",
              "      <td>1367.09293</td>\n",
              "      <td>0.0271</td>\n",
              "    </tr>\n",
              "    <tr>\n",
              "      <th>...</th>\n",
              "      <td>...</td>\n",
              "      <td>...</td>\n",
              "      <td>...</td>\n",
              "      <td>...</td>\n",
              "      <td>...</td>\n",
              "      <td>...</td>\n",
              "      <td>...</td>\n",
              "      <td>...</td>\n",
              "      <td>...</td>\n",
              "      <td>...</td>\n",
              "      <td>...</td>\n",
              "      <td>...</td>\n",
              "    </tr>\n",
              "    <tr>\n",
              "      <th>1018066</th>\n",
              "      <td>2020-06-23</td>\n",
              "      <td>SP</td>\n",
              "      <td>Óleo</td>\n",
              "      <td>city</td>\n",
              "      <td>1</td>\n",
              "      <td>0</td>\n",
              "      <td>5</td>\n",
              "      <td>False</td>\n",
              "      <td>2496.0</td>\n",
              "      <td>2471.0</td>\n",
              "      <td>40.46945</td>\n",
              "      <td>0.0000</td>\n",
              "    </tr>\n",
              "    <tr>\n",
              "      <th>1018067</th>\n",
              "      <td>2020-06-22</td>\n",
              "      <td>SP</td>\n",
              "      <td>Óleo</td>\n",
              "      <td>city</td>\n",
              "      <td>1</td>\n",
              "      <td>0</td>\n",
              "      <td>4</td>\n",
              "      <td>False</td>\n",
              "      <td>2496.0</td>\n",
              "      <td>2471.0</td>\n",
              "      <td>40.46945</td>\n",
              "      <td>0.0000</td>\n",
              "    </tr>\n",
              "    <tr>\n",
              "      <th>1018068</th>\n",
              "      <td>2020-06-21</td>\n",
              "      <td>SP</td>\n",
              "      <td>Óleo</td>\n",
              "      <td>city</td>\n",
              "      <td>1</td>\n",
              "      <td>0</td>\n",
              "      <td>3</td>\n",
              "      <td>False</td>\n",
              "      <td>2496.0</td>\n",
              "      <td>2471.0</td>\n",
              "      <td>40.46945</td>\n",
              "      <td>0.0000</td>\n",
              "    </tr>\n",
              "    <tr>\n",
              "      <th>1018069</th>\n",
              "      <td>2020-06-20</td>\n",
              "      <td>SP</td>\n",
              "      <td>Óleo</td>\n",
              "      <td>city</td>\n",
              "      <td>1</td>\n",
              "      <td>0</td>\n",
              "      <td>2</td>\n",
              "      <td>False</td>\n",
              "      <td>2496.0</td>\n",
              "      <td>2471.0</td>\n",
              "      <td>40.46945</td>\n",
              "      <td>0.0000</td>\n",
              "    </tr>\n",
              "    <tr>\n",
              "      <th>1018070</th>\n",
              "      <td>2020-06-19</td>\n",
              "      <td>SP</td>\n",
              "      <td>Óleo</td>\n",
              "      <td>city</td>\n",
              "      <td>1</td>\n",
              "      <td>0</td>\n",
              "      <td>1</td>\n",
              "      <td>False</td>\n",
              "      <td>2496.0</td>\n",
              "      <td>2471.0</td>\n",
              "      <td>40.46945</td>\n",
              "      <td>0.0000</td>\n",
              "    </tr>\n",
              "  </tbody>\n",
              "</table>\n",
              "<p>121104 rows × 12 columns</p>\n",
              "</div>"
            ],
            "text/plain": [
              "              data estado  ... confirmados_100k indice_morte\n",
              "896967  2020-11-19     SP  ...       1412.66270       0.0262\n",
              "896968  2020-11-18     SP  ...       1404.11837       0.0264\n",
              "896969  2020-11-17     SP  ...       1404.11837       0.0264\n",
              "896970  2020-11-16     SP  ...       1367.09293       0.0271\n",
              "896971  2020-11-15     SP  ...       1367.09293       0.0271\n",
              "...            ...    ...  ...              ...          ...\n",
              "1018066 2020-06-23     SP  ...         40.46945       0.0000\n",
              "1018067 2020-06-22     SP  ...         40.46945       0.0000\n",
              "1018068 2020-06-21     SP  ...         40.46945       0.0000\n",
              "1018069 2020-06-20     SP  ...         40.46945       0.0000\n",
              "1018070 2020-06-19     SP  ...         40.46945       0.0000\n",
              "\n",
              "[121104 rows x 12 columns]"
            ]
          },
          "metadata": {
            "tags": []
          },
          "execution_count": 47
        }
      ]
    },
    {
      "cell_type": "code",
      "metadata": {
        "colab": {
          "base_uri": "https://localhost:8080/",
          "height": 309
        },
        "id": "6QEFbAhPhpiG",
        "outputId": "6448ab2c-8637-41ec-e427-9b06f4e33ab7"
      },
      "source": [
        "dice_sp.head()"
      ],
      "execution_count": 48,
      "outputs": [
        {
          "output_type": "execute_result",
          "data": {
            "text/html": [
              "<div>\n",
              "<style scoped>\n",
              "    .dataframe tbody tr th:only-of-type {\n",
              "        vertical-align: middle;\n",
              "    }\n",
              "\n",
              "    .dataframe tbody tr th {\n",
              "        vertical-align: top;\n",
              "    }\n",
              "\n",
              "    .dataframe thead th {\n",
              "        text-align: right;\n",
              "    }\n",
              "</style>\n",
              "<table border=\"1\" class=\"dataframe\">\n",
              "  <thead>\n",
              "    <tr style=\"text-align: right;\">\n",
              "      <th></th>\n",
              "      <th>data</th>\n",
              "      <th>estado</th>\n",
              "      <th>cidade</th>\n",
              "      <th>tipo_lugar</th>\n",
              "      <th>confirmado</th>\n",
              "      <th>mortes</th>\n",
              "      <th>ordem_local</th>\n",
              "      <th>ultimo</th>\n",
              "      <th>populacao_2019</th>\n",
              "      <th>populacao</th>\n",
              "      <th>confirmados_100k</th>\n",
              "      <th>indice_morte</th>\n",
              "    </tr>\n",
              "  </thead>\n",
              "  <tbody>\n",
              "    <tr>\n",
              "      <th>896967</th>\n",
              "      <td>2020-11-19</td>\n",
              "      <td>SP</td>\n",
              "      <td>Adamantina</td>\n",
              "      <td>city</td>\n",
              "      <td>496</td>\n",
              "      <td>13</td>\n",
              "      <td>215</td>\n",
              "      <td>True</td>\n",
              "      <td>35068.0</td>\n",
              "      <td>35111.0</td>\n",
              "      <td>1412.66270</td>\n",
              "      <td>0.0262</td>\n",
              "    </tr>\n",
              "    <tr>\n",
              "      <th>896968</th>\n",
              "      <td>2020-11-18</td>\n",
              "      <td>SP</td>\n",
              "      <td>Adamantina</td>\n",
              "      <td>city</td>\n",
              "      <td>493</td>\n",
              "      <td>13</td>\n",
              "      <td>214</td>\n",
              "      <td>False</td>\n",
              "      <td>35068.0</td>\n",
              "      <td>35111.0</td>\n",
              "      <td>1404.11837</td>\n",
              "      <td>0.0264</td>\n",
              "    </tr>\n",
              "    <tr>\n",
              "      <th>896969</th>\n",
              "      <td>2020-11-17</td>\n",
              "      <td>SP</td>\n",
              "      <td>Adamantina</td>\n",
              "      <td>city</td>\n",
              "      <td>493</td>\n",
              "      <td>13</td>\n",
              "      <td>213</td>\n",
              "      <td>False</td>\n",
              "      <td>35068.0</td>\n",
              "      <td>35111.0</td>\n",
              "      <td>1404.11837</td>\n",
              "      <td>0.0264</td>\n",
              "    </tr>\n",
              "    <tr>\n",
              "      <th>896970</th>\n",
              "      <td>2020-11-16</td>\n",
              "      <td>SP</td>\n",
              "      <td>Adamantina</td>\n",
              "      <td>city</td>\n",
              "      <td>480</td>\n",
              "      <td>13</td>\n",
              "      <td>212</td>\n",
              "      <td>False</td>\n",
              "      <td>35068.0</td>\n",
              "      <td>35111.0</td>\n",
              "      <td>1367.09293</td>\n",
              "      <td>0.0271</td>\n",
              "    </tr>\n",
              "    <tr>\n",
              "      <th>896971</th>\n",
              "      <td>2020-11-15</td>\n",
              "      <td>SP</td>\n",
              "      <td>Adamantina</td>\n",
              "      <td>city</td>\n",
              "      <td>480</td>\n",
              "      <td>13</td>\n",
              "      <td>211</td>\n",
              "      <td>False</td>\n",
              "      <td>35068.0</td>\n",
              "      <td>35111.0</td>\n",
              "      <td>1367.09293</td>\n",
              "      <td>0.0271</td>\n",
              "    </tr>\n",
              "  </tbody>\n",
              "</table>\n",
              "</div>"
            ],
            "text/plain": [
              "             data estado      cidade  ... populacao  confirmados_100k  indice_morte\n",
              "896967 2020-11-19     SP  Adamantina  ...   35111.0        1412.66270        0.0262\n",
              "896968 2020-11-18     SP  Adamantina  ...   35111.0        1404.11837        0.0264\n",
              "896969 2020-11-17     SP  Adamantina  ...   35111.0        1404.11837        0.0264\n",
              "896970 2020-11-16     SP  Adamantina  ...   35111.0        1367.09293        0.0271\n",
              "896971 2020-11-15     SP  Adamantina  ...   35111.0        1367.09293        0.0271\n",
              "\n",
              "[5 rows x 12 columns]"
            ]
          },
          "metadata": {
            "tags": []
          },
          "execution_count": 48
        }
      ]
    },
    {
      "cell_type": "code",
      "metadata": {
        "id": "YaCsHCLuj-iw"
      },
      "source": [
        "# export for csv file\n",
        "dice_sp.to_csv('Data_covid-19_SP.csv')"
      ],
      "execution_count": 49,
      "outputs": []
    },
    {
      "cell_type": "markdown",
      "metadata": {
        "id": "BgFK-fB9k0b4"
      },
      "source": [
        "Ready Data\n"
      ]
    }
  ]
}